{
 "cells": [
  {
   "cell_type": "code",
   "execution_count": 8,
   "metadata": {},
   "outputs": [
    {
     "data": {
      "text/latex": [
       "$\\displaystyle \\left[\\begin{matrix}- \\frac{\\left(a \\sin{\\left(\\phi \\right)} + b \\cos{\\left(\\phi \\right)}\\right) \\tan{\\left(\\alpha \\right)}}{L} & - \\frac{v_{c} \\left(a \\sin{\\left(\\phi \\right)} + b \\cos{\\left(\\phi \\right)}\\right)}{L \\cos^{2}{\\left(\\alpha \\right)}}\\\\\\frac{\\left(a \\cos{\\left(\\phi \\right)} - b \\sin{\\left(\\phi \\right)}\\right) \\tan{\\left(\\alpha \\right)}}{L} & \\frac{v_{c} \\left(a \\cos{\\left(\\phi \\right)} - b \\sin{\\left(\\phi \\right)}\\right)}{L \\cos^{2}{\\left(\\alpha \\right)}}\\\\\\frac{\\delta_{t} \\tan{\\left(\\alpha \\right)}}{L} & \\frac{\\delta_{t} v_{c}}{L \\cos^{2}{\\left(\\alpha \\right)}}\\end{matrix}\\right]$"
      ],
      "text/plain": [
       "⎡-(a⋅sin(φ) + b⋅cos(φ))⋅tan(α)   -v_c⋅(a⋅sin(φ) + b⋅cos(φ)) ⎤\n",
       "⎢──────────────────────────────  ───────────────────────────⎥\n",
       "⎢              L                               2            ⎥\n",
       "⎢                                         L⋅cos (α)         ⎥\n",
       "⎢                                                           ⎥\n",
       "⎢ (a⋅cos(φ) - b⋅sin(φ))⋅tan(α)    v_c⋅(a⋅cos(φ) - b⋅sin(φ)) ⎥\n",
       "⎢ ────────────────────────────    ───────────────────────── ⎥\n",
       "⎢              L                               2            ⎥\n",
       "⎢                                         L⋅cos (α)         ⎥\n",
       "⎢                                                           ⎥\n",
       "⎢          δₜ⋅tan(α)                        δₜ⋅v_c          ⎥\n",
       "⎢          ─────────                      ─────────         ⎥\n",
       "⎢              L                               2            ⎥\n",
       "⎣                                         L⋅cos (α)         ⎦"
      ]
     },
     "metadata": {},
     "output_type": "display_data"
    },
    {
     "name": "stdout",
     "output_type": "stream",
     "text": [
      "a = Symbol('a')\n",
      "phi = Symbol('phi')\n",
      "b = Symbol('b')\n",
      "alpha = Symbol('alpha')\n",
      "L = Symbol('L')\n",
      "v_c = Symbol('v_c')\n",
      "delta_t = Symbol('delta_t')\n",
      "e = MutableDenseMatrix([[-(a*sin(phi) + b*cos(phi))*tan(alpha)/L, -v_c*(a*sin(phi) + b*cos(phi))*(tan(alpha)**2 + 1)/L], [(a*cos(phi) - b*sin(phi))*tan(alpha)/L, v_c*(a*cos(phi) - b*sin(phi))*(tan(alpha)**2 + 1)/L], [delta_t*tan(alpha)/L, delta_t*v_c*(tan(alpha)**2 + 1)/L]])\n"
     ]
    }
   ],
   "source": [
    "import sympy as sp\n",
    "from sympy import cos, sin\n",
    "from sympy import init_printing\n",
    "from IPython.display import Math, display\n",
    "from sympy import print_python\n",
    "init_printing(use_latex=True)\n",
    "\n",
    "x, y, dT, vc, phi, L, alpha, a, b = sp.symbols('x, y, delta_t, v_c, phi, L, alpha, a, b')\n",
    "\n",
    "Motion_Control = sp.Matrix([[x + dT*sp.cos(phi) - vc/L * sp.tan(alpha) * (a*sp.sin(phi) + b*sp.cos(phi))],\n",
    "                            [y + dT*sp.sin(phi) + vc/L * sp.tan(alpha) * (a*sp.cos(phi) - b*sp.sin(phi))],\n",
    "                            [phi + dT*vc/L * sp.tan(alpha)]])\n",
    "u = sp.Matrix([vc, alpha])\n",
    "\n",
    "R = Motion_Control.jacobian(u)\n",
    "display(sp.simplify(R))\n",
    "\n",
    "print_python(R)\n",
    "\n"
   ]
  }
 ],
 "metadata": {
  "kernelspec": {
   "display_name": "Python 3.8.10 64-bit",
   "language": "python",
   "name": "python3"
  },
  "language_info": {
   "codemirror_mode": {
    "name": "ipython",
    "version": 3
   },
   "file_extension": ".py",
   "mimetype": "text/x-python",
   "name": "python",
   "nbconvert_exporter": "python",
   "pygments_lexer": "ipython3",
   "version": "3.8.10"
  },
  "orig_nbformat": 4,
  "vscode": {
   "interpreter": {
    "hash": "e7370f93d1d0cde622a1f8e1c04877d8463912d04d973331ad4851f04de6915a"
   }
  }
 },
 "nbformat": 4,
 "nbformat_minor": 2
}
